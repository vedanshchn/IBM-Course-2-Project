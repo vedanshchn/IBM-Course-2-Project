{
 "cells": [
  {
   "cell_type": "markdown",
   "id": "0f38a344-16b8-4581-b0c5-a150c0bd24e0",
   "metadata": {},
   "source": [
    "# Data Science Tools and Ecosystem"
   ]
  },
  {
   "cell_type": "markdown",
   "id": "cbfa17ca-a714-4f47-bc21-d82905482a06",
   "metadata": {},
   "source": [
    "In this notebook, Data Science Tools and Ecosystem are summarized."
   ]
  },
  {
   "cell_type": "markdown",
   "id": "996c4d97-66b8-4f6d-ae0d-d953922929ae",
   "metadata": {},
   "source": [
    "Some of the popular languages that Data Scientists use are:\n",
    "1. Python\n",
    "2. SQL\n",
    "3. R"
   ]
  },
  {
   "cell_type": "markdown",
   "id": "7e740b50-a98e-49b9-ab78-8a318f1534e4",
   "metadata": {},
   "source": [
    "Some of the commonly used libraries used by Data Scientists include:\n",
    "1. Pandas\n",
    "2. NumPy\n",
    "3. Scikit-learn\n",
    "4. PyTorch\n",
    "5. Keras\n",
    "6. TensorFlow\n",
    "7. Matplotlib\n",
    "8. Seaborn"
   ]
  },
  {
   "cell_type": "markdown",
   "id": "8ad9752d-3039-4b41-b5be-ae6037583ac1",
   "metadata": {
    "tags": []
   },
   "source": [
    "| Data Science Tools |\n",
    "| -- |\n",
    "| Jupyter Notebook |\n",
    "| RStudio |\n",
    "| Visual Studio Code |"
   ]
  },
  {
   "cell_type": "markdown",
   "id": "cb901eda-0346-45ad-a176-e404e821e128",
   "metadata": {},
   "source": [
    "### Below are a few examples of evaluating arithmetic expressions in Python."
   ]
  },
  {
   "cell_type": "code",
   "execution_count": 2,
   "id": "b9766d42-2876-433c-9d01-93a2108512c6",
   "metadata": {
    "tags": []
   },
   "outputs": [
    {
     "data": {
      "text/plain": [
       "17"
      ]
     },
     "execution_count": 2,
     "metadata": {},
     "output_type": "execute_result"
    }
   ],
   "source": [
    "#This a simple arithmetic expression to mutiply then add integers\n",
    "(3*4)+5"
   ]
  },
  {
   "cell_type": "code",
   "execution_count": 5,
   "id": "3c301737-15e8-477b-8c75-8e40510d99e6",
   "metadata": {
    "tags": []
   },
   "outputs": [
    {
     "name": "stdout",
     "output_type": "stream",
     "text": [
      "200 minutes in hours would be 3.3333333333333335 hours.\n"
     ]
    }
   ],
   "source": [
    "#This will convert 200 minutes to hours by diving by 60\n",
    "hrs = 200/60\n",
    "print(f\"200 minutes in hours would be {hrs} hours.\")"
   ]
  },
  {
   "cell_type": "markdown",
   "id": "30faf849-2c6f-41d5-ac90-a4e16cd35690",
   "metadata": {},
   "source": [
    "**Objectives:**\n",
    "- List popular languages for Data Science.\n",
    "- List commonly used libraries used by Data Scientists.\n",
    "- Evaluate arithmetic expressions in Python.\n",
    "- Create a table using Python."
   ]
  },
  {
   "cell_type": "markdown",
   "id": "92896017-0fc3-4cf0-b598-1e8bb1174b7a",
   "metadata": {},
   "source": [
    "## Author:\n",
    "Vedansh Chauhan"
   ]
  },
  {
   "cell_type": "code",
   "execution_count": null,
   "id": "2e005369-0999-4586-8551-9cd77596f34f",
   "metadata": {},
   "outputs": [],
   "source": []
  }
 ],
 "metadata": {
  "kernelspec": {
   "display_name": "Python",
   "language": "python",
   "name": "conda-env-python-py"
  },
  "language_info": {
   "codemirror_mode": {
    "name": "ipython",
    "version": 3
   },
   "file_extension": ".py",
   "mimetype": "text/x-python",
   "name": "python",
   "nbconvert_exporter": "python",
   "pygments_lexer": "ipython3",
   "version": "3.7.12"
  }
 },
 "nbformat": 4,
 "nbformat_minor": 5
}
